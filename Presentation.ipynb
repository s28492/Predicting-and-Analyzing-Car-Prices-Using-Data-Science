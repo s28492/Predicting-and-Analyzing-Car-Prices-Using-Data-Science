{
 "cells": [
  {
   "metadata": {},
   "cell_type": "markdown",
   "source": [
    "# DSC PJATK Car Price Prediction — Final Presentation\n",
    "\n",
    "**Cyprian i Jakub:**  \n",
    "- Grupa 7\n",
    "\n",
    "## 1. Wprowadzenie\n",
    "Witamy w naszej prezentacji rozwiązania konkursowego organizowanego przez **DSC PJATK**. Naszym zadaniem było przygotowanie **modelu predykcyjnego** do przewidywania cen pojazdów na podstawie danych z ofert sprzedaży.\n",
    "\n",
    "**Kluczowe etapy pracy:**\n",
    "1. Eksploracyjna analiza danych (EDA)\n",
    "2. Czyszczenie i inżynieria cech (feature engineering)\n",
    "3. Budowa i ocena modelu\n",
    "4. Wnioski i rekomendacje"
   ],
   "id": "d7ff34db194ba9e2"
  },
  {
   "metadata": {},
   "cell_type": "markdown",
   "source": "# A. Analiza i Wizualizacje (EDA + Wnioski)",
   "id": "341ae2f665d4b3aa"
  },
  {
   "metadata": {},
   "cell_type": "markdown",
   "source": [
    "## 2. Eksploracyjna Analiza Danych\n",
    "W tej części koncentrujemy się na:\n",
    "- Wczytaniu danych\n",
    "- Podstawowych statystykach opisowych\n",
    "- Identyfikacji braków w danych i wartości odstających\n",
    "- Prostej wizualizacji rozkładów i zależności"
   ],
   "id": "847496df7aa1d50f"
  },
  {
   "metadata": {},
   "cell_type": "code",
   "outputs": [],
   "execution_count": null,
   "source": [
    "import pandas as pd\n",
    "import numpy as np\n",
    "import matplotlib.pyplot as plt\n",
    "import seaborn as sns\n",
    "from sklearn.model_selection import train_test_split\n",
    "from sklearn.metrics import mean_squared_error\n",
    "from xgboost import XGBRegressor\n",
    "\n",
    "sns.set(style=\"whitegrid\")\n",
    "\n",
    "# Wczytanie danych\n",
    "df_train = pd.read_csv(\"Cleaned_train.csv\", index_col=\"ID\")  # przykładowa nazwa\n",
    "df_test  = pd.read_csv(\"Cleaned_test.csv\", index_col=\"ID\")   # przykładowa nazwa\n",
    "print(\"Rozmiary zbioru treningowego:\", df_train.shape)\n",
    "df_train.head()"
   ],
   "id": "148dce1bc3ec3f80"
  }
 ],
 "metadata": {
  "kernelspec": {
   "display_name": "Python 3",
   "language": "python",
   "name": "python3"
  },
  "language_info": {
   "codemirror_mode": {
    "name": "ipython",
    "version": 2
   },
   "file_extension": ".py",
   "mimetype": "text/x-python",
   "name": "python",
   "nbconvert_exporter": "python",
   "pygments_lexer": "ipython2",
   "version": "2.7.6"
  }
 },
 "nbformat": 4,
 "nbformat_minor": 5
}
