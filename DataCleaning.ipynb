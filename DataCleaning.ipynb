{
 "cells": [
  {
   "cell_type": "code",
   "id": "initial_id",
   "metadata": {
    "collapsed": true,
    "ExecuteTime": {
     "end_time": "2025-03-13T06:21:32.015591Z",
     "start_time": "2025-03-13T06:21:31.424467Z"
    }
   },
   "source": [
    "import numpy as np\n",
    "import pandas as pd\n",
    "import matplotlib.pyplot as plt"
   ],
   "outputs": [],
   "execution_count": 1
  },
  {
   "metadata": {
    "ExecuteTime": {
     "end_time": "2025-03-13T06:21:33.171479Z",
     "start_time": "2025-03-13T06:21:32.030679Z"
    }
   },
   "cell_type": "code",
   "source": [
    "df_car_sales_train_data = pd.read_csv('Data/sales_ads_train.csv',\n",
    "    dtype={\n",
    "        'Waluta': 'category',\n",
    "        'Stan': 'category',\n",
    "        'Marka_pojazdu': 'string',\n",
    "        'Model_pojazdu': 'string',\n",
    "        'Wersja_pojazdu': 'string',\n",
    "        'Generacja_pojazdu': 'string',\n",
    "        'Rok_produkcji': 'float64',\n",
    "        'Przebieg_km': 'float',\n",
    "        'Moc_KM': 'float',\n",
    "        'Pojemnosc_cm3': 'float',\n",
    "        'Rodzaj_paliwa': 'category',\n",
    "        'Emisja_CO2': 'float',\n",
    "        'Naped': 'category',\n",
    "        'Skrzynia_biegow': 'category',\n",
    "        'Typ_nadwozia': 'category',\n",
    "        'Liczba_drzwi': 'float64',\n",
    "        'Kolor': 'category',\n",
    "        'Kraj_pochodzenia': 'category',\n",
    "        'Pierwszy': 'category',\n",
    "        'Lokalizacja_oferty': 'string',\n",
    "        'Wyposazenie': 'string'\n",
    "\n",
    "},\n",
    "                           index_col=\"ID\", parse_dates=['Data_pierwszej_rejestracji','Data_publikacji_oferty'], dayfirst=True)\n",
    "df_car_sales_train_data.info()"
   ],
   "id": "ad4dc0bf62e85942",
   "outputs": [
    {
     "name": "stdout",
     "output_type": "stream",
     "text": [
      "<class 'pandas.core.frame.DataFrame'>\n",
      "Index: 135397 entries, 1 to 135397\n",
      "Data columns (total 24 columns):\n",
      " #   Column                      Non-Null Count   Dtype         \n",
      "---  ------                      --------------   -----         \n",
      " 0   Cena                        135397 non-null  int64         \n",
      " 1   Waluta                      132021 non-null  category      \n",
      " 2   Stan                        132075 non-null  category      \n",
      " 3   Marka_pojazdu               132046 non-null  string        \n",
      " 4   Model_pojazdu               132088 non-null  string        \n",
      " 5   Wersja_pojazdu              87336 non-null   string        \n",
      " 6   Generacja_pojazdu           93737 non-null   string        \n",
      " 7   Rok_produkcji               131990 non-null  float64       \n",
      " 8   Przebieg_km                 131394 non-null  float64       \n",
      " 9   Moc_KM                      131664 non-null  float64       \n",
      " 10  Pojemnosc_cm3               130711 non-null  float64       \n",
      " 11  Rodzaj_paliwa               131987 non-null  category      \n",
      " 12  Emisja_CO2                  59497 non-null   float64       \n",
      " 13  Naped                       122343 non-null  category      \n",
      " 14  Skrzynia_biegow             131622 non-null  category      \n",
      " 15  Typ_nadwozia                132038 non-null  category      \n",
      " 16  Liczba_drzwi                131033 non-null  float64       \n",
      " 17  Kolor                       131934 non-null  category      \n",
      " 18  Kraj_pochodzenia            74977 non-null   category      \n",
      " 19  Pierwszy_wlasciciel         40883 non-null   object        \n",
      " 20  Data_pierwszej_rejestracji  54699 non-null   object        \n",
      " 21  Data_publikacji_oferty      131948 non-null  datetime64[ns]\n",
      " 22  Lokalizacja_oferty          132056 non-null  string        \n",
      " 23  Wyposazenie                 132144 non-null  string        \n",
      "dtypes: category(8), datetime64[ns](1), float64(6), int64(1), object(2), string(6)\n",
      "memory usage: 18.6+ MB\n"
     ]
    }
   ],
   "execution_count": 2
  },
  {
   "metadata": {
    "ExecuteTime": {
     "end_time": "2025-03-13T06:21:33.830816Z",
     "start_time": "2025-03-13T06:21:33.219870Z"
    }
   },
   "cell_type": "code",
   "source": [
    "df_car_sales_test_data = pd.read_csv('Data/sales_ads_test.csv',\n",
    "    dtype={\n",
    "        'Waluta': 'category',\n",
    "        'Stan': 'category',\n",
    "        'Marka_pojazdu': 'string',\n",
    "        'Model_pojazdu': 'string',\n",
    "        'Wersja_pojazdu': 'string',\n",
    "        'Generacja_pojazdu': 'string',\n",
    "        'Rok_produkcji': 'float64',\n",
    "        'Przebieg_km': 'float',\n",
    "        'Moc_KM': 'float',\n",
    "        'Pojemnosc_cm3': 'float',\n",
    "        'Rodzaj_paliwa': 'category',\n",
    "        'Emisja_CO2': 'float',\n",
    "        'Naped': 'category',\n",
    "        'Skrzynia_biegow': 'category',\n",
    "        'Typ_nadwozia': 'category',\n",
    "        'Liczba_drzwi': 'float64',\n",
    "        'Kolor': 'category',\n",
    "        'Kraj_pochodzenia': 'category',\n",
    "        'Pierwszy': 'category',\n",
    "        'Lokalizacja_oferty': 'string',\n",
    "        'Wyposazenie': 'string'\n",
    "\n",
    "},\n",
    "                           index_col=\"ID\", parse_dates=['Data_pierwszej_rejestracji','Data_publikacji_oferty'], dayfirst=True)\n",
    "df_car_sales_test_data.info()\n"
   ],
   "id": "7484f9428ee1fe9",
   "outputs": [
    {
     "name": "stdout",
     "output_type": "stream",
     "text": [
      "<class 'pandas.core.frame.DataFrame'>\n",
      "Index: 72907 entries, 1 to 72907\n",
      "Data columns (total 23 columns):\n",
      " #   Column                      Non-Null Count  Dtype         \n",
      "---  ------                      --------------  -----         \n",
      " 0   Waluta                      72907 non-null  category      \n",
      " 1   Stan                        72907 non-null  category      \n",
      " 2   Marka_pojazdu               72907 non-null  string        \n",
      " 3   Model_pojazdu               72907 non-null  string        \n",
      " 4   Wersja_pojazdu              48394 non-null  string        \n",
      " 5   Generacja_pojazdu           51734 non-null  string        \n",
      " 6   Rok_produkcji               72907 non-null  float64       \n",
      " 7   Przebieg_km                 72577 non-null  float64       \n",
      " 8   Moc_KM                      72678 non-null  float64       \n",
      " 9   Pojemnosc_cm3               72221 non-null  float64       \n",
      " 10  Rodzaj_paliwa               72907 non-null  category      \n",
      " 11  Emisja_CO2                  32946 non-null  float64       \n",
      " 12  Naped                       67775 non-null  category      \n",
      " 13  Skrzynia_biegow             72744 non-null  category      \n",
      " 14  Typ_nadwozia                72907 non-null  category      \n",
      " 15  Liczba_drzwi                72369 non-null  float64       \n",
      " 16  Kolor                       72907 non-null  category      \n",
      " 17  Kraj_pochodzenia            41425 non-null  category      \n",
      " 18  Pierwszy_wlasciciel         23161 non-null  object        \n",
      " 19  Data_pierwszej_rejestracji  30281 non-null  object        \n",
      " 20  Data_publikacji_oferty      72907 non-null  datetime64[ns]\n",
      " 21  Lokalizacja_oferty          72907 non-null  string        \n",
      " 22  Wyposazenie                 72907 non-null  string        \n",
      "dtypes: category(8), datetime64[ns](1), float64(6), object(2), string(6)\n",
      "memory usage: 9.5+ MB\n"
     ]
    }
   ],
   "execution_count": 3
  },
  {
   "metadata": {},
   "cell_type": "markdown",
   "source": [
    "# UWAGA!!\n",
    "Łączenie danych testowych i treningowych tylko na czas czyszczenia stringów i formatowań!!!"
   ],
   "id": "6c4e6e5ab263b0f9"
  },
  {
   "metadata": {
    "ExecuteTime": {
     "end_time": "2025-03-13T06:21:33.942370Z",
     "start_time": "2025-03-13T06:21:33.843022Z"
    }
   },
   "cell_type": "code",
   "source": [
    "df_car_sales_test_data['Cena'] = pd.Series()\n",
    "df_car_sales = pd.concat([df_car_sales_train_data, df_car_sales_test_data])\n",
    "df_car_sales.info()"
   ],
   "id": "46af12347ff35917",
   "outputs": [
    {
     "name": "stdout",
     "output_type": "stream",
     "text": [
      "<class 'pandas.core.frame.DataFrame'>\n",
      "Index: 208304 entries, 1 to 72907\n",
      "Data columns (total 24 columns):\n",
      " #   Column                      Non-Null Count   Dtype         \n",
      "---  ------                      --------------   -----         \n",
      " 0   Cena                        135397 non-null  object        \n",
      " 1   Waluta                      204928 non-null  category      \n",
      " 2   Stan                        204982 non-null  category      \n",
      " 3   Marka_pojazdu               204953 non-null  string        \n",
      " 4   Model_pojazdu               204995 non-null  string        \n",
      " 5   Wersja_pojazdu              135730 non-null  string        \n",
      " 6   Generacja_pojazdu           145471 non-null  string        \n",
      " 7   Rok_produkcji               204897 non-null  float64       \n",
      " 8   Przebieg_km                 203971 non-null  float64       \n",
      " 9   Moc_KM                      204342 non-null  float64       \n",
      " 10  Pojemnosc_cm3               202932 non-null  float64       \n",
      " 11  Rodzaj_paliwa               204894 non-null  object        \n",
      " 12  Emisja_CO2                  92443 non-null   float64       \n",
      " 13  Naped                       190118 non-null  category      \n",
      " 14  Skrzynia_biegow             204366 non-null  category      \n",
      " 15  Typ_nadwozia                204945 non-null  category      \n",
      " 16  Liczba_drzwi                203402 non-null  float64       \n",
      " 17  Kolor                       204841 non-null  category      \n",
      " 18  Kraj_pochodzenia            116402 non-null  object        \n",
      " 19  Pierwszy_wlasciciel         64044 non-null   object        \n",
      " 20  Data_pierwszej_rejestracji  84980 non-null   object        \n",
      " 21  Data_publikacji_oferty      204855 non-null  datetime64[ns]\n",
      " 22  Lokalizacja_oferty          204963 non-null  string        \n",
      " 23  Wyposazenie                 205051 non-null  string        \n",
      "dtypes: category(6), datetime64[ns](1), float64(6), object(5), string(6)\n",
      "memory usage: 31.4+ MB\n"
     ]
    }
   ],
   "execution_count": 4
  },
  {
   "metadata": {},
   "cell_type": "markdown",
   "source": "### Czyszczenie i konwersja 'Data_pierwszej_rejestracji' do typu 'datetetime64'",
   "id": "a6f6e3fe2a73f12e"
  },
  {
   "metadata": {
    "ExecuteTime": {
     "end_time": "2025-03-13T06:21:33.967327Z",
     "start_time": "2025-03-13T06:21:33.960938Z"
    }
   },
   "cell_type": "code",
   "source": "df_car_sales['Data_pierwszej_rejestracji']",
   "id": "206afac7e7a9018b",
   "outputs": [
    {
     "data": {
      "text/plain": [
       "ID\n",
       "1               NaN\n",
       "2        16/06/2010\n",
       "3               NaN\n",
       "4        27/11/2007\n",
       "5        20/05/2013\n",
       "            ...    \n",
       "72903    20/12/2020\n",
       "72904           NaN\n",
       "72905           NaN\n",
       "72906           NaN\n",
       "72907    17/03/2021\n",
       "Name: Data_pierwszej_rejestracji, Length: 208304, dtype: object"
      ]
     },
     "execution_count": 5,
     "metadata": {},
     "output_type": "execute_result"
    }
   ],
   "execution_count": 5
  },
  {
   "metadata": {},
   "cell_type": "markdown",
   "source": [
    "Zakładając brak pomyłek:\n",
    "\n",
    " - najstarsze auto zostało wyprodukowane w 1923, lecz dane testowe zawierają w sobie nawet takie z 1915\n",
    " - dane pochodzą z 2021"
   ],
   "id": "1e49c7716e3b4213"
  },
  {
   "metadata": {
    "ExecuteTime": {
     "end_time": "2025-03-13T06:21:34.030953Z",
     "start_time": "2025-03-13T06:21:34.021183Z"
    }
   },
   "cell_type": "code",
   "source": "df_car_sales['Rok_produkcji'].describe()",
   "id": "d53baea47d94455d",
   "outputs": [
    {
     "data": {
      "text/plain": [
       "count    204897.000000\n",
       "mean       2012.098323\n",
       "std           7.002089\n",
       "min        1915.000000\n",
       "25%        2008.000000\n",
       "50%        2013.000000\n",
       "75%        2017.000000\n",
       "max        2021.000000\n",
       "Name: Rok_produkcji, dtype: float64"
      ]
     },
     "execution_count": 6,
     "metadata": {},
     "output_type": "execute_result"
    }
   ],
   "execution_count": 6
  },
  {
   "metadata": {},
   "cell_type": "markdown",
   "source": "'Data_pierwszej_rejestracji' zawiera w sobie zarówno błędne formatowanie jak i rok rejestracji",
   "id": "b2e222a17dd609b3"
  },
  {
   "metadata": {
    "ExecuteTime": {
     "end_time": "2025-03-13T06:21:34.092285Z",
     "start_time": "2025-03-13T06:21:34.073977Z"
    }
   },
   "cell_type": "code",
   "source": "df_car_sales['Data_pierwszej_rejestracji'] = df_car_sales['Data_pierwszej_rejestracji'].str.replace('//', '/')",
   "id": "d3f5bcd92c72ef77",
   "outputs": [],
   "execution_count": 7
  },
  {
   "metadata": {
    "ExecuteTime": {
     "end_time": "2025-03-13T06:21:34.379669Z",
     "start_time": "2025-03-13T06:21:34.136140Z"
    }
   },
   "cell_type": "code",
   "source": [
    "# Dzielenie daty rejestracji na kolumny dnia, miesiąca i roku\n",
    "first_registration_expanded_data = df_car_sales['Data_pierwszej_rejestracji'].str.split('/', expand=True).rename(columns={0: 'Dzien_pierwszej_rejestracji', 1: 'Miesiac_pierwszej_rejestracji', 2: 'Rok_pierwszej_rejestracji'})"
   ],
   "id": "c1edd102d4db21f8",
   "outputs": [],
   "execution_count": 8
  },
  {
   "metadata": {
    "ExecuteTime": {
     "end_time": "2025-03-13T06:21:34.425756Z",
     "start_time": "2025-03-13T06:21:34.412967Z"
    }
   },
   "cell_type": "code",
   "source": [
    "# Łączenie datych z kolumną roku produkci pojazdu dla dalszej analizy\n",
    "df_car_sales_with_expanded_registration_dates = pd.concat([df_car_sales['Rok_produkcji'], first_registration_expanded_data], axis=1)\n",
    "df_car_sales_with_expanded_registration_dates"
   ],
   "id": "6d3fc4be4901a5a1",
   "outputs": [
    {
     "data": {
      "text/plain": [
       "       Rok_produkcji Dzien_pierwszej_rejestracji  \\\n",
       "ID                                                 \n",
       "1             2005.0                         NaN   \n",
       "2             2010.0                          16   \n",
       "3             2015.0                         NaN   \n",
       "4             2007.0                          27   \n",
       "5             2013.0                          20   \n",
       "...              ...                         ...   \n",
       "72903         2016.0                          20   \n",
       "72904         2009.0                         NaN   \n",
       "72905         2016.0                         NaN   \n",
       "72906         2009.0                         NaN   \n",
       "72907         2020.0                          17   \n",
       "\n",
       "      Miesiac_pierwszej_rejestracji Rok_pierwszej_rejestracji  \n",
       "ID                                                             \n",
       "1                               NaN                       NaN  \n",
       "2                                06                      2010  \n",
       "3                               NaN                       NaN  \n",
       "4                                11                      2007  \n",
       "5                                05                      2013  \n",
       "...                             ...                       ...  \n",
       "72903                            12                      2020  \n",
       "72904                           NaN                       NaN  \n",
       "72905                           NaN                       NaN  \n",
       "72906                           NaN                       NaN  \n",
       "72907                            03                      2021  \n",
       "\n",
       "[208304 rows x 4 columns]"
      ],
      "text/html": [
       "<div>\n",
       "<style scoped>\n",
       "    .dataframe tbody tr th:only-of-type {\n",
       "        vertical-align: middle;\n",
       "    }\n",
       "\n",
       "    .dataframe tbody tr th {\n",
       "        vertical-align: top;\n",
       "    }\n",
       "\n",
       "    .dataframe thead th {\n",
       "        text-align: right;\n",
       "    }\n",
       "</style>\n",
       "<table border=\"1\" class=\"dataframe\">\n",
       "  <thead>\n",
       "    <tr style=\"text-align: right;\">\n",
       "      <th></th>\n",
       "      <th>Rok_produkcji</th>\n",
       "      <th>Dzien_pierwszej_rejestracji</th>\n",
       "      <th>Miesiac_pierwszej_rejestracji</th>\n",
       "      <th>Rok_pierwszej_rejestracji</th>\n",
       "    </tr>\n",
       "    <tr>\n",
       "      <th>ID</th>\n",
       "      <th></th>\n",
       "      <th></th>\n",
       "      <th></th>\n",
       "      <th></th>\n",
       "    </tr>\n",
       "  </thead>\n",
       "  <tbody>\n",
       "    <tr>\n",
       "      <th>1</th>\n",
       "      <td>2005.0</td>\n",
       "      <td>NaN</td>\n",
       "      <td>NaN</td>\n",
       "      <td>NaN</td>\n",
       "    </tr>\n",
       "    <tr>\n",
       "      <th>2</th>\n",
       "      <td>2010.0</td>\n",
       "      <td>16</td>\n",
       "      <td>06</td>\n",
       "      <td>2010</td>\n",
       "    </tr>\n",
       "    <tr>\n",
       "      <th>3</th>\n",
       "      <td>2015.0</td>\n",
       "      <td>NaN</td>\n",
       "      <td>NaN</td>\n",
       "      <td>NaN</td>\n",
       "    </tr>\n",
       "    <tr>\n",
       "      <th>4</th>\n",
       "      <td>2007.0</td>\n",
       "      <td>27</td>\n",
       "      <td>11</td>\n",
       "      <td>2007</td>\n",
       "    </tr>\n",
       "    <tr>\n",
       "      <th>5</th>\n",
       "      <td>2013.0</td>\n",
       "      <td>20</td>\n",
       "      <td>05</td>\n",
       "      <td>2013</td>\n",
       "    </tr>\n",
       "    <tr>\n",
       "      <th>...</th>\n",
       "      <td>...</td>\n",
       "      <td>...</td>\n",
       "      <td>...</td>\n",
       "      <td>...</td>\n",
       "    </tr>\n",
       "    <tr>\n",
       "      <th>72903</th>\n",
       "      <td>2016.0</td>\n",
       "      <td>20</td>\n",
       "      <td>12</td>\n",
       "      <td>2020</td>\n",
       "    </tr>\n",
       "    <tr>\n",
       "      <th>72904</th>\n",
       "      <td>2009.0</td>\n",
       "      <td>NaN</td>\n",
       "      <td>NaN</td>\n",
       "      <td>NaN</td>\n",
       "    </tr>\n",
       "    <tr>\n",
       "      <th>72905</th>\n",
       "      <td>2016.0</td>\n",
       "      <td>NaN</td>\n",
       "      <td>NaN</td>\n",
       "      <td>NaN</td>\n",
       "    </tr>\n",
       "    <tr>\n",
       "      <th>72906</th>\n",
       "      <td>2009.0</td>\n",
       "      <td>NaN</td>\n",
       "      <td>NaN</td>\n",
       "      <td>NaN</td>\n",
       "    </tr>\n",
       "    <tr>\n",
       "      <th>72907</th>\n",
       "      <td>2020.0</td>\n",
       "      <td>17</td>\n",
       "      <td>03</td>\n",
       "      <td>2021</td>\n",
       "    </tr>\n",
       "  </tbody>\n",
       "</table>\n",
       "<p>208304 rows × 4 columns</p>\n",
       "</div>"
      ]
     },
     "execution_count": 9,
     "metadata": {},
     "output_type": "execute_result"
    }
   ],
   "execution_count": 9
  },
  {
   "metadata": {
    "ExecuteTime": {
     "end_time": "2025-03-13T06:21:35.309606Z",
     "start_time": "2025-03-13T06:21:35.295615Z"
    }
   },
   "cell_type": "code",
   "source": [
    "df_car_sales_with_expanded_registration_dates.loc[\n",
    "    df_car_sales_with_expanded_registration_dates['Rok_pierwszej_rejestracji'].astype(float) < 1940\n",
    "][['Rok_produkcji', 'Rok_pierwszej_rejestracji']]\n",
    "\n",
    "# Zastąpienie pierwszych 2 cyfr roku cyframi z roku produkcji zdaje się że rozwiąże większość konfliktów"
   ],
   "id": "65a42ac1645d229c",
   "outputs": [
    {
     "data": {
      "text/plain": [
       "       Rok_produkcji Rok_pierwszej_rejestracji\n",
       "ID                                            \n",
       "1727          2006.0                      0012\n",
       "1890          2016.0                      0017\n",
       "2265          1998.0                      0098\n",
       "2744          1998.0                      0098\n",
       "3999          2000.0                      0200\n",
       "...              ...                       ...\n",
       "64740         2019.0                      0019\n",
       "66741         2018.0                      0018\n",
       "67429         2008.0                     -0001\n",
       "68969         2004.0                      0204\n",
       "71521         2013.0                      0013\n",
       "\n",
       "[223 rows x 2 columns]"
      ],
      "text/html": [
       "<div>\n",
       "<style scoped>\n",
       "    .dataframe tbody tr th:only-of-type {\n",
       "        vertical-align: middle;\n",
       "    }\n",
       "\n",
       "    .dataframe tbody tr th {\n",
       "        vertical-align: top;\n",
       "    }\n",
       "\n",
       "    .dataframe thead th {\n",
       "        text-align: right;\n",
       "    }\n",
       "</style>\n",
       "<table border=\"1\" class=\"dataframe\">\n",
       "  <thead>\n",
       "    <tr style=\"text-align: right;\">\n",
       "      <th></th>\n",
       "      <th>Rok_produkcji</th>\n",
       "      <th>Rok_pierwszej_rejestracji</th>\n",
       "    </tr>\n",
       "    <tr>\n",
       "      <th>ID</th>\n",
       "      <th></th>\n",
       "      <th></th>\n",
       "    </tr>\n",
       "  </thead>\n",
       "  <tbody>\n",
       "    <tr>\n",
       "      <th>1727</th>\n",
       "      <td>2006.0</td>\n",
       "      <td>0012</td>\n",
       "    </tr>\n",
       "    <tr>\n",
       "      <th>1890</th>\n",
       "      <td>2016.0</td>\n",
       "      <td>0017</td>\n",
       "    </tr>\n",
       "    <tr>\n",
       "      <th>2265</th>\n",
       "      <td>1998.0</td>\n",
       "      <td>0098</td>\n",
       "    </tr>\n",
       "    <tr>\n",
       "      <th>2744</th>\n",
       "      <td>1998.0</td>\n",
       "      <td>0098</td>\n",
       "    </tr>\n",
       "    <tr>\n",
       "      <th>3999</th>\n",
       "      <td>2000.0</td>\n",
       "      <td>0200</td>\n",
       "    </tr>\n",
       "    <tr>\n",
       "      <th>...</th>\n",
       "      <td>...</td>\n",
       "      <td>...</td>\n",
       "    </tr>\n",
       "    <tr>\n",
       "      <th>64740</th>\n",
       "      <td>2019.0</td>\n",
       "      <td>0019</td>\n",
       "    </tr>\n",
       "    <tr>\n",
       "      <th>66741</th>\n",
       "      <td>2018.0</td>\n",
       "      <td>0018</td>\n",
       "    </tr>\n",
       "    <tr>\n",
       "      <th>67429</th>\n",
       "      <td>2008.0</td>\n",
       "      <td>-0001</td>\n",
       "    </tr>\n",
       "    <tr>\n",
       "      <th>68969</th>\n",
       "      <td>2004.0</td>\n",
       "      <td>0204</td>\n",
       "    </tr>\n",
       "    <tr>\n",
       "      <th>71521</th>\n",
       "      <td>2013.0</td>\n",
       "      <td>0013</td>\n",
       "    </tr>\n",
       "  </tbody>\n",
       "</table>\n",
       "<p>223 rows × 2 columns</p>\n",
       "</div>"
      ]
     },
     "execution_count": 10,
     "metadata": {},
     "output_type": "execute_result"
    }
   ],
   "execution_count": 10
  },
  {
   "metadata": {
    "ExecuteTime": {
     "end_time": "2025-03-13T06:21:35.834672Z",
     "start_time": "2025-03-13T06:21:35.830553Z"
    }
   },
   "cell_type": "code",
   "source": [
    "# Dodać do listy zakupów\n",
    "df_car_sales.iloc[32583]"
   ],
   "id": "ac585edc95cac322",
   "outputs": [
    {
     "data": {
      "text/plain": [
       "Cena                                                1300000\n",
       "Waluta                                                  PLN\n",
       "Stan                                                   Used\n",
       "Marka_pojazdu                                   Rolls-Royce\n",
       "Model_pojazdu                                       Phantom\n",
       "Wersja_pojazdu                                         <NA>\n",
       "Generacja_pojazdu                                      <NA>\n",
       "Rok_produkcji                                        1936.0\n",
       "Przebieg_km                                         40355.0\n",
       "Moc_KM                                                  NaN\n",
       "Pojemnosc_cm3                                        3499.0\n",
       "Rodzaj_paliwa                                      Gasoline\n",
       "Emisja_CO2                                              NaN\n",
       "Naped                                           Rear wheels\n",
       "Skrzynia_biegow                                      Manual\n",
       "Typ_nadwozia                                      city_cars\n",
       "Liczba_drzwi                                            5.0\n",
       "Kolor                                                 other\n",
       "Kraj_pochodzenia                              Great Britain\n",
       "Pierwszy_wlasciciel                                     NaN\n",
       "Data_pierwszej_rejestracji                       01/02/1936\n",
       "Data_publikacji_oferty                  2021-05-04 00:00:00\n",
       "Lokalizacja_oferty            Poznań, Wielkopolskie, Jeżyce\n",
       "Wyposazenie                                              []\n",
       "Name: 32584, dtype: object"
      ]
     },
     "execution_count": 11,
     "metadata": {},
     "output_type": "execute_result"
    }
   ],
   "execution_count": 11
  },
  {
   "metadata": {
    "ExecuteTime": {
     "end_time": "2025-03-13T06:21:36.707827Z",
     "start_time": "2025-03-13T06:21:36.686243Z"
    }
   },
   "cell_type": "code",
   "source": [
    "# Usuwanie ujemnych wartości z roku\n",
    "df_car_sales_with_expanded_registration_dates['Rok_pierwszej_rejestracji'] = (df_car_sales_with_expanded_registration_dates['Rok_pierwszej_rejestracji'].\n",
    "                                                                              str.replace('-', ''))"
   ],
   "id": "5856a6d361b40874",
   "outputs": [],
   "execution_count": 12
  },
  {
   "metadata": {
    "ExecuteTime": {
     "end_time": "2025-03-13T06:21:37.217910Z",
     "start_time": "2025-03-13T06:21:37.202777Z"
    }
   },
   "cell_type": "code",
   "source": [
    "# Wyświetlanie danych gdzie rok pierwszej rejestracji jest wcześniejszy niż rok produkcji\n",
    "df_car_sales_with_expanded_registration_dates.loc[\n",
    "    df_car_sales_with_expanded_registration_dates['Rok_pierwszej_rejestracji'].astype(float) < df_car_sales_with_expanded_registration_dates['Rok_produkcji'].astype(float)\n",
    "][['Rok_produkcji', 'Rok_pierwszej_rejestracji']]"
   ],
   "id": "8043ad941ed89a57",
   "outputs": [
    {
     "data": {
      "text/plain": [
       "       Rok_produkcji Rok_pierwszej_rejestracji\n",
       "ID                                            \n",
       "822           1998.0                      1997\n",
       "1089          2011.0                      2010\n",
       "1424          2010.0                      2009\n",
       "1727          2006.0                      0012\n",
       "1890          2016.0                      0017\n",
       "...              ...                       ...\n",
       "71457         2020.0                      2019\n",
       "71521         2013.0                      0013\n",
       "71660         2005.0                      2004\n",
       "71919         2015.0                      1970\n",
       "72034         2007.0                      2005\n",
       "\n",
       "[592 rows x 2 columns]"
      ],
      "text/html": [
       "<div>\n",
       "<style scoped>\n",
       "    .dataframe tbody tr th:only-of-type {\n",
       "        vertical-align: middle;\n",
       "    }\n",
       "\n",
       "    .dataframe tbody tr th {\n",
       "        vertical-align: top;\n",
       "    }\n",
       "\n",
       "    .dataframe thead th {\n",
       "        text-align: right;\n",
       "    }\n",
       "</style>\n",
       "<table border=\"1\" class=\"dataframe\">\n",
       "  <thead>\n",
       "    <tr style=\"text-align: right;\">\n",
       "      <th></th>\n",
       "      <th>Rok_produkcji</th>\n",
       "      <th>Rok_pierwszej_rejestracji</th>\n",
       "    </tr>\n",
       "    <tr>\n",
       "      <th>ID</th>\n",
       "      <th></th>\n",
       "      <th></th>\n",
       "    </tr>\n",
       "  </thead>\n",
       "  <tbody>\n",
       "    <tr>\n",
       "      <th>822</th>\n",
       "      <td>1998.0</td>\n",
       "      <td>1997</td>\n",
       "    </tr>\n",
       "    <tr>\n",
       "      <th>1089</th>\n",
       "      <td>2011.0</td>\n",
       "      <td>2010</td>\n",
       "    </tr>\n",
       "    <tr>\n",
       "      <th>1424</th>\n",
       "      <td>2010.0</td>\n",
       "      <td>2009</td>\n",
       "    </tr>\n",
       "    <tr>\n",
       "      <th>1727</th>\n",
       "      <td>2006.0</td>\n",
       "      <td>0012</td>\n",
       "    </tr>\n",
       "    <tr>\n",
       "      <th>1890</th>\n",
       "      <td>2016.0</td>\n",
       "      <td>0017</td>\n",
       "    </tr>\n",
       "    <tr>\n",
       "      <th>...</th>\n",
       "      <td>...</td>\n",
       "      <td>...</td>\n",
       "    </tr>\n",
       "    <tr>\n",
       "      <th>71457</th>\n",
       "      <td>2020.0</td>\n",
       "      <td>2019</td>\n",
       "    </tr>\n",
       "    <tr>\n",
       "      <th>71521</th>\n",
       "      <td>2013.0</td>\n",
       "      <td>0013</td>\n",
       "    </tr>\n",
       "    <tr>\n",
       "      <th>71660</th>\n",
       "      <td>2005.0</td>\n",
       "      <td>2004</td>\n",
       "    </tr>\n",
       "    <tr>\n",
       "      <th>71919</th>\n",
       "      <td>2015.0</td>\n",
       "      <td>1970</td>\n",
       "    </tr>\n",
       "    <tr>\n",
       "      <th>72034</th>\n",
       "      <td>2007.0</td>\n",
       "      <td>2005</td>\n",
       "    </tr>\n",
       "  </tbody>\n",
       "</table>\n",
       "<p>592 rows × 2 columns</p>\n",
       "</div>"
      ]
     },
     "execution_count": 13,
     "metadata": {},
     "output_type": "execute_result"
    }
   ],
   "execution_count": 13
  },
  {
   "metadata": {
    "ExecuteTime": {
     "end_time": "2025-03-13T06:39:07.159705Z",
     "start_time": "2025-03-13T06:39:07.156173Z"
    }
   },
   "cell_type": "code",
   "source": [
    "test_data = df_car_sales_with_expanded_registration_dates\n",
    "\n",
    "non_null_production_year = test_data.loc[test_data['Rok_produkcji'].notnull() == True]\n",
    "non_null_registration_year = test_data.loc[test_data['Rok_pierwszej_rejestracji'].notnull() == True]\n",
    "\n",
    "non_null_indices = (non_null_registration_year & non_null_production_year)\n",
    "# non_null_indices = test_data.loc[(test_data['Rok_pierwszej_rejestracji'].isna()) | (test_data['Rok_produkcji'].isna())].index\n",
    "# idices_to_fix = test_data.loc[\n",
    "#     test_data['Rok_pierwszej_rejestracji'].astype(float) < test_data['Rok_produkcji'].astype(float)\n",
    "# ][['Rok_produkcji', 'Rok_pierwszej_rejestracji']].index\n",
    "\n",
    "test_data.loc[\n",
    "     (test_data['Rok_pierwszej_rejestracji'].notnull() == True) & (test_data['Rok_produkcji'].notnull() == True])]"
   ],
   "id": "869b0c91edbee729",
   "outputs": [
    {
     "ename": "SyntaxError",
     "evalue": "closing parenthesis ']' does not match opening parenthesis '(' (2711304047.py, line 13)",
     "output_type": "error",
     "traceback": [
      "\u001B[0;36m  Cell \u001B[0;32mIn[43], line 13\u001B[0;36m\u001B[0m\n\u001B[0;31m    (test_data['Rok_pierwszej_rejestracji'].notnull() == True) & (test_data['Rok_produkcji'].notnull() == True])]\u001B[0m\n\u001B[0m                                                                                                              ^\u001B[0m\n\u001B[0;31mSyntaxError\u001B[0m\u001B[0;31m:\u001B[0m closing parenthesis ']' does not match opening parenthesis '('\n"
     ]
    }
   ],
   "execution_count": 43
  },
  {
   "metadata": {
    "ExecuteTime": {
     "end_time": "2025-03-13T06:22:35.415811Z",
     "start_time": "2025-03-13T06:22:35.400565Z"
    }
   },
   "cell_type": "code",
   "source": "test_data.loc[test_data['Rok_pierwszej_rejestracji'].isna()]",
   "id": "ef95a4bb82bdf8dd",
   "outputs": [
    {
     "data": {
      "text/plain": [
       "       Rok_produkcji Dzien_pierwszej_rejestracji  \\\n",
       "ID                                                 \n",
       "1             2005.0                         NaN   \n",
       "3             2015.0                         NaN   \n",
       "9             2009.0                         NaN   \n",
       "10            2011.0                         NaN   \n",
       "11            2021.0                         NaN   \n",
       "...              ...                         ...   \n",
       "72900         2017.0                         NaN   \n",
       "72901         2009.0                         NaN   \n",
       "72904         2009.0                         NaN   \n",
       "72905         2016.0                         NaN   \n",
       "72906         2009.0                         NaN   \n",
       "\n",
       "      Miesiac_pierwszej_rejestracji Rok_pierwszej_rejestracji  \n",
       "ID                                                             \n",
       "1                               NaN                       NaN  \n",
       "3                               NaN                       NaN  \n",
       "9                               NaN                       NaN  \n",
       "10                              NaN                       NaN  \n",
       "11                              NaN                       NaN  \n",
       "...                             ...                       ...  \n",
       "72900                           NaN                       NaN  \n",
       "72901                           NaN                       NaN  \n",
       "72904                           NaN                       NaN  \n",
       "72905                           NaN                       NaN  \n",
       "72906                           NaN                       NaN  \n",
       "\n",
       "[123324 rows x 4 columns]"
      ],
      "text/html": [
       "<div>\n",
       "<style scoped>\n",
       "    .dataframe tbody tr th:only-of-type {\n",
       "        vertical-align: middle;\n",
       "    }\n",
       "\n",
       "    .dataframe tbody tr th {\n",
       "        vertical-align: top;\n",
       "    }\n",
       "\n",
       "    .dataframe thead th {\n",
       "        text-align: right;\n",
       "    }\n",
       "</style>\n",
       "<table border=\"1\" class=\"dataframe\">\n",
       "  <thead>\n",
       "    <tr style=\"text-align: right;\">\n",
       "      <th></th>\n",
       "      <th>Rok_produkcji</th>\n",
       "      <th>Dzien_pierwszej_rejestracji</th>\n",
       "      <th>Miesiac_pierwszej_rejestracji</th>\n",
       "      <th>Rok_pierwszej_rejestracji</th>\n",
       "    </tr>\n",
       "    <tr>\n",
       "      <th>ID</th>\n",
       "      <th></th>\n",
       "      <th></th>\n",
       "      <th></th>\n",
       "      <th></th>\n",
       "    </tr>\n",
       "  </thead>\n",
       "  <tbody>\n",
       "    <tr>\n",
       "      <th>1</th>\n",
       "      <td>2005.0</td>\n",
       "      <td>NaN</td>\n",
       "      <td>NaN</td>\n",
       "      <td>NaN</td>\n",
       "    </tr>\n",
       "    <tr>\n",
       "      <th>3</th>\n",
       "      <td>2015.0</td>\n",
       "      <td>NaN</td>\n",
       "      <td>NaN</td>\n",
       "      <td>NaN</td>\n",
       "    </tr>\n",
       "    <tr>\n",
       "      <th>9</th>\n",
       "      <td>2009.0</td>\n",
       "      <td>NaN</td>\n",
       "      <td>NaN</td>\n",
       "      <td>NaN</td>\n",
       "    </tr>\n",
       "    <tr>\n",
       "      <th>10</th>\n",
       "      <td>2011.0</td>\n",
       "      <td>NaN</td>\n",
       "      <td>NaN</td>\n",
       "      <td>NaN</td>\n",
       "    </tr>\n",
       "    <tr>\n",
       "      <th>11</th>\n",
       "      <td>2021.0</td>\n",
       "      <td>NaN</td>\n",
       "      <td>NaN</td>\n",
       "      <td>NaN</td>\n",
       "    </tr>\n",
       "    <tr>\n",
       "      <th>...</th>\n",
       "      <td>...</td>\n",
       "      <td>...</td>\n",
       "      <td>...</td>\n",
       "      <td>...</td>\n",
       "    </tr>\n",
       "    <tr>\n",
       "      <th>72900</th>\n",
       "      <td>2017.0</td>\n",
       "      <td>NaN</td>\n",
       "      <td>NaN</td>\n",
       "      <td>NaN</td>\n",
       "    </tr>\n",
       "    <tr>\n",
       "      <th>72901</th>\n",
       "      <td>2009.0</td>\n",
       "      <td>NaN</td>\n",
       "      <td>NaN</td>\n",
       "      <td>NaN</td>\n",
       "    </tr>\n",
       "    <tr>\n",
       "      <th>72904</th>\n",
       "      <td>2009.0</td>\n",
       "      <td>NaN</td>\n",
       "      <td>NaN</td>\n",
       "      <td>NaN</td>\n",
       "    </tr>\n",
       "    <tr>\n",
       "      <th>72905</th>\n",
       "      <td>2016.0</td>\n",
       "      <td>NaN</td>\n",
       "      <td>NaN</td>\n",
       "      <td>NaN</td>\n",
       "    </tr>\n",
       "    <tr>\n",
       "      <th>72906</th>\n",
       "      <td>2009.0</td>\n",
       "      <td>NaN</td>\n",
       "      <td>NaN</td>\n",
       "      <td>NaN</td>\n",
       "    </tr>\n",
       "  </tbody>\n",
       "</table>\n",
       "<p>123324 rows × 4 columns</p>\n",
       "</div>"
      ]
     },
     "execution_count": 17,
     "metadata": {},
     "output_type": "execute_result"
    }
   ],
   "execution_count": 17
  },
  {
   "metadata": {},
   "cell_type": "code",
   "outputs": [],
   "execution_count": null,
   "source": "",
   "id": "c4d0401a780b8df8"
  }
 ],
 "metadata": {
  "kernelspec": {
   "display_name": "Python 3",
   "language": "python",
   "name": "python3"
  },
  "language_info": {
   "codemirror_mode": {
    "name": "ipython",
    "version": 2
   },
   "file_extension": ".py",
   "mimetype": "text/x-python",
   "name": "python",
   "nbconvert_exporter": "python",
   "pygments_lexer": "ipython2",
   "version": "2.7.6"
  }
 },
 "nbformat": 4,
 "nbformat_minor": 5
}
